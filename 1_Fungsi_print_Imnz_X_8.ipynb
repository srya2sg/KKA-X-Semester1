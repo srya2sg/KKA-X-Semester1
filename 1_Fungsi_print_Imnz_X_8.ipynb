{
  "nbformat": 4,
  "nbformat_minor": 0,
  "metadata": {
    "colab": {
      "provenance": [],
      "authorship_tag": "ABX9TyNrthTXExA83Nelem3UlNtt",
      "include_colab_link": true
    },
    "kernelspec": {
      "name": "python3",
      "display_name": "Python 3"
    },
    "language_info": {
      "name": "python"
    }
  },
  "cells": [
    {
      "cell_type": "markdown",
      "metadata": {
        "id": "view-in-github",
        "colab_type": "text"
      },
      "source": [
        "<a href=\"https://colab.research.google.com/github/srya2sg/KKA-X-Semester1/blob/main/1_Fungsi_print_Imnz_X_8.ipynb\" target=\"_parent\"><img src=\"https://colab.research.google.com/assets/colab-badge.svg\" alt=\"Open In Colab\"/></a>"
      ]
    },
    {
      "cell_type": "code",
      "execution_count": null,
      "metadata": {
        "id": "6a0YEgPIfTig"
      },
      "outputs": [],
      "source": []
    },
    {
      "cell_type": "markdown",
      "source": [
        "Nama = muhammad dzatil iman\n",
        "\n",
        "\n",
        "Kelas = X-8\n",
        "\n",
        "\n",
        "No = 22"
      ],
      "metadata": {
        "id": "htfHCqnAfcnJ"
      }
    },
    {
      "cell_type": "markdown",
      "source": [],
      "metadata": {
        "id": "r6Mm6KCStf4y"
      }
    },
    {
      "cell_type": "markdown",
      "source": [
        "#menampilkan teks bebas"
      ],
      "metadata": {
        "id": "a6owRE1igI9_"
      }
    },
    {
      "cell_type": "code",
      "source": [
        "print(\"Helo world\")"
      ],
      "metadata": {
        "colab": {
          "base_uri": "https://localhost:8080/"
        },
        "id": "ib2VfkvRf7L9",
        "outputId": "cebfa9f3-efab-404c-dc60-9f53a1045a83"
      },
      "execution_count": null,
      "outputs": [
        {
          "output_type": "stream",
          "name": "stdout",
          "text": [
            "Helo world\n"
          ]
        }
      ]
    },
    {
      "cell_type": "markdown",
      "source": [
        "#menampilkan nilai variabel"
      ],
      "metadata": {
        "id": "xIRCp1TiiO91"
      }
    },
    {
      "cell_type": "code",
      "source": [
        "usia = 16\n",
        "\n",
        "print (usia)"
      ],
      "metadata": {
        "colab": {
          "base_uri": "https://localhost:8080/"
        },
        "id": "VVhI3ZwjiX2P",
        "outputId": "29d5695d-2b18-4e2e-dc10-946a06edd729"
      },
      "execution_count": null,
      "outputs": [
        {
          "output_type": "stream",
          "name": "stdout",
          "text": [
            "16\n"
          ]
        }
      ]
    },
    {
      "cell_type": "code",
      "source": [
        "nama = \"Muhammad dzatil iman\"\n",
        "\n",
        "print (nama)"
      ],
      "metadata": {
        "colab": {
          "base_uri": "https://localhost:8080/"
        },
        "id": "xarOHcPHjNYy",
        "outputId": "a0291e93-4aa4-4903-bb68-fab32f124c17"
      },
      "execution_count": null,
      "outputs": [
        {
          "output_type": "stream",
          "name": "stdout",
          "text": [
            "Muhammad dzatil iman\n"
          ]
        }
      ]
    },
    {
      "cell_type": "code",
      "source": [
        "bb=\"32\"\n",
        "\n",
        "print (bb)"
      ],
      "metadata": {
        "colab": {
          "base_uri": "https://localhost:8080/"
        },
        "id": "lHfu8m_QkA7s",
        "outputId": "502fbcde-d823-4830-854b-c646c389afe7"
      },
      "execution_count": null,
      "outputs": [
        {
          "output_type": "stream",
          "name": "stdout",
          "text": [
            "32\n"
          ]
        }
      ]
    },
    {
      "cell_type": "markdown",
      "source": [
        "#menampilkan teks bebas dan nilai variabel"
      ],
      "metadata": {
        "id": "AYOA-NuVlHan"
      }
    },
    {
      "cell_type": "markdown",
      "source": [],
      "metadata": {
        "id": "9D7nzNoWfa87"
      }
    },
    {
      "cell_type": "code",
      "source": [
        "print (f\"perkenalkan nama saya {nama} \")"
      ],
      "metadata": {
        "colab": {
          "base_uri": "https://localhost:8080/"
        },
        "id": "UjRLZXb3myZN",
        "outputId": "34830bed-b1c6-4899-ba75-103f3efd41cf"
      },
      "execution_count": null,
      "outputs": [
        {
          "output_type": "stream",
          "name": "stdout",
          "text": [
            "perkenalkan nama saya Muhammad dzatil iman \n"
          ]
        }
      ]
    },
    {
      "cell_type": "code",
      "source": [
        "print (\"perkenalkan nama saya\" + nama)"
      ],
      "metadata": {
        "colab": {
          "base_uri": "https://localhost:8080/"
        },
        "id": "atVkHTtanWht",
        "outputId": "66d3ce98-901f-48a4-821e-a38197068d90"
      },
      "execution_count": null,
      "outputs": [
        {
          "output_type": "stream",
          "name": "stdout",
          "text": [
            "perkenalkan nama sayaMuhammad dzatil iman\n"
          ]
        }
      ]
    },
    {
      "cell_type": "code",
      "source": [
        "print (f\"berat badan saya {bb} \")"
      ],
      "metadata": {
        "colab": {
          "base_uri": "https://localhost:8080/"
        },
        "id": "y2mkUIPknBza",
        "outputId": "092a6818-15d7-4145-aa95-3ab31930e4f1"
      },
      "execution_count": null,
      "outputs": [
        {
          "output_type": "stream",
          "name": "stdout",
          "text": [
            "berat badan saya 32 \n"
          ]
        }
      ]
    },
    {
      "cell_type": "code",
      "source": [
        "print (\"berat badan saya\" + str (bb) + \"kg.\")"
      ],
      "metadata": {
        "colab": {
          "base_uri": "https://localhost:8080/"
        },
        "id": "qQ-X9ZKJn6ki",
        "outputId": "6c3f4b5e-af92-46a7-82e4-6c1c4c2dffd9"
      },
      "execution_count": null,
      "outputs": [
        {
          "output_type": "stream",
          "name": "stdout",
          "text": [
            "berat badan saya32kg.\n"
          ]
        }
      ]
    },
    {
      "cell_type": "markdown",
      "source": [
        "# Escape Character"
      ],
      "metadata": {
        "id": "dE1nZC-nhfDS"
      }
    },
    {
      "cell_type": "code",
      "source": [
        "print (\"nama: muhammad dzatil iman\\nkelas: x-8\\nNo.Absen: 22\")"
      ],
      "metadata": {
        "colab": {
          "base_uri": "https://localhost:8080/"
        },
        "id": "7ejCF-Xmih9d",
        "outputId": "1708fca2-677e-412f-f96f-85f6e8445858"
      },
      "execution_count": null,
      "outputs": [
        {
          "output_type": "stream",
          "name": "stdout",
          "text": [
            "nama: muhammad dzatil iman\n",
            "kelas: x-8\n",
            "No.Absen: 22\n"
          ]
        }
      ]
    },
    {
      "cell_type": "code",
      "source": [
        "print (\"\"\"nama\\t\\t: shinta Roudlotul hanafia\n",
        "kelas\\t\\t: x-8\n",
        "No. Absen\\t: 29\"\"\")"
      ],
      "metadata": {
        "colab": {
          "base_uri": "https://localhost:8080/"
        },
        "id": "9GqlGOhTjY02",
        "outputId": "4b62cd9f-584d-4053-e63a-d16a2a0bc704"
      },
      "execution_count": null,
      "outputs": [
        {
          "output_type": "stream",
          "name": "stdout",
          "text": [
            "nama\t\t: shinta Roudlotul hanafia\n",
            "kelas\t\t: x-8\n",
            "No. Absen\t: 29\n"
          ]
        }
      ]
    },
    {
      "cell_type": "code",
      "source": [
        "print (\"nama: ja'far Shodiq\\nkelas: x-8\\nNo. Absen: 29\")"
      ],
      "metadata": {
        "colab": {
          "base_uri": "https://localhost:8080/"
        },
        "id": "svlZLwmXml07",
        "outputId": "1f09e53b-0dfc-45ef-b3f6-099badd1ba44"
      },
      "execution_count": null,
      "outputs": [
        {
          "output_type": "stream",
          "name": "stdout",
          "text": [
            "nama: ja'far Shodiq\n",
            "kelas: x-8\n",
            "No. Absen: 29\n"
          ]
        }
      ]
    },
    {
      "cell_type": "code",
      "source": [
        "print ('nama: ja\\'far Shodiq\\nkelas: x-8\\nNo. Absen: 29')"
      ],
      "metadata": {
        "colab": {
          "base_uri": "https://localhost:8080/"
        },
        "id": "f04iJ0UgnXrt",
        "outputId": "dbc025c6-4346-4e13-a2df-2e1cc8cc7a71"
      },
      "execution_count": null,
      "outputs": [
        {
          "output_type": "stream",
          "name": "stdout",
          "text": [
            "nama: ja'far Shodiq\n",
            "kelas: x-8\n",
            "No. Absen: 29\n"
          ]
        }
      ]
    },
    {
      "cell_type": "code",
      "source": [
        "print (\"lokasi file tugas Kka: lokal disk c\\\\kka\\\\tugas shinta\")"
      ],
      "metadata": {
        "colab": {
          "base_uri": "https://localhost:8080/"
        },
        "id": "GrmQLUcJoU5r",
        "outputId": "f1f6ea01-a1dd-45e1-e158-a63028e3e147"
      },
      "execution_count": null,
      "outputs": [
        {
          "output_type": "stream",
          "name": "stdout",
          "text": [
            "lokasi file tugas Kka: lokal disk c\\kka\\tugas shinta\n"
          ]
        }
      ]
    },
    {
      "cell_type": "code",
      "source": [
        "nama_depan = \"shinta\"\n",
        "nama_belakang = \"hanafia\"\n",
        "\n",
        "print(nama_depan, end=\" \")\n",
        "print(nama_belakang)"
      ],
      "metadata": {
        "colab": {
          "base_uri": "https://localhost:8080/"
        },
        "id": "z2CjMOkXrSsJ",
        "outputId": "a78d9dd7-efee-4b1c-e046-629a24d19b26"
      },
      "execution_count": null,
      "outputs": [
        {
          "output_type": "stream",
          "name": "stdout",
          "text": [
            "shinta hanafia\n"
          ]
        }
      ]
    },
    {
      "cell_type": "code",
      "source": [
        "nama_siswa_1 = \"Dinda\"\n",
        "nama_siswa_2 = \"Aurin\"\n",
        "nama_siswa_3 = \"Lisan\"\n",
        "\n",
        "print(nama_siswa_3, nama_siswa_2, nama_siswa_3, nama_siswa_1, sep='/')"
      ],
      "metadata": {
        "id": "sG3aBzsOgovR",
        "colab": {
          "base_uri": "https://localhost:8080/"
        },
        "outputId": "18b464a5-c82e-4fee-cb68-232ab5bfbefe"
      },
      "execution_count": null,
      "outputs": [
        {
          "output_type": "stream",
          "name": "stdout",
          "text": [
            "Lisan/Aurin/Lisan/Dinda\n"
          ]
        }
      ]
    },
    {
      "cell_type": "code",
      "source": [
        "nama_siswa_4 = \"Azkal\"\n",
        "nama_siswa_5 = \"Hasyim\"\n",
        "nama_siswa_6 = \"Chilmi\"\n",
        "nama_siswa_7 = \"Nova\"\n",
        "\n",
        "print(nama_siswa_6, end=\"~\")\n",
        "print(nama_siswa_4)\n",
        "\n",
        "print(nama_siswa_5, end=\"-\")\n",
        "print(nama_siswa_7)\n",
        "\n",
        "print(nama_siswa_4, end=\"/\")\n",
        "print(nama_siswa_7, end=\"&\")\n",
        "print(nama_siswa_5)"
      ],
      "metadata": {
        "colab": {
          "base_uri": "https://localhost:8080/"
        },
        "id": "hISm-KuVoj5f",
        "outputId": "ba9a2558-f61a-46cc-f2d7-b2360bced447"
      },
      "execution_count": null,
      "outputs": [
        {
          "output_type": "stream",
          "name": "stdout",
          "text": [
            "Chilmi~Azkal\n",
            "Hasyim-Nova\n",
            "Azkal/Nova&Hasyim\n"
          ]
        }
      ]
    }
  ]
}